{
 "cells": [
  {
   "cell_type": "code",
   "execution_count": null,
   "metadata": {
    "vscode": {
     "languageId": "html"
    }
   },
   "outputs": [],
   "source": [
    "<!DOCTYPE html>\n",
    "<html lang=\"de\">\n",
    "<head>\n",
    "  <meta charset=\"UTF-8\">\n",
    "  <meta name=\"author\" content=\"Dein Name\">\n",
    "  <title>Mein Sommersemester 2024</title>\n",
    "</head>\n",
    "<body>\n",
    "\n",
    "<h1>Mein Sommersemester 2024</h1>\n",
    "\n",
    "<nav>\n",
    "  <ul>\n",
    "    <li><a href=\"#stundenplan\">Stundenplan</a></li>\n",
    "    <li><a href=\"#kurse\">Meine Kurse und Prüfungen</a></li>\n",
    "  </ul>\n",
    "</nav>\n",
    "\n",
    "<section id=\"stundenplan\">\n",
    "  <h2>Stundenplan</h2>\n",
    "  <table border=\"1\">\n",
    "    <thead>\n",
    "      <tr>\n",
    "        <th>Montag</th>\n",
    "        <th>Dienstag</th>\n",
    "        <th>Mittwoch</th>\n",
    "        <th>Donnerstag</th>\n",
    "        <th>Freitag</th>\n",
    "      </tr>\n",
    "    </thead>\n",
    "    <tbody>\n",
    "      <tr>\n",
    "        <td>Kurs A</td>\n",
    "        <td>Kurs B</td>\n",
    "        <td>Kurs C</td>\n",
    "        <td>Kurs D</td>\n",
    "        <td>Kurs E</td>\n",
    "      </tr>\n",
    "      <!-- Weitere Stunden hier einfügen -->\n",
    "    </tbody>\n",
    "  </table>\n",
    "</section>\n",
    "\n",
    "<section id=\"kurse\">\n",
    "  <h2>Meine Kurse und Prüfungen</h2>\n",
    "  <article>\n",
    "    <h3>Kurs A</h3>\n",
    "    <p>Dozent: <a href=\"#\">DozentName</a><br>\n",
    "    Modul: Pflichtmodul<br>\n",
    "    Zeitlicher Umfang: X Stunden pro Woche<br>\n",
    "    Prüfungsleistung: Klausur</p>\n",
    "  </article>\n",
    "  <article>\n",
    "    <h3>Kurs B</h3>\n",
    "    <p>Dozent: <a href=\"#\">DozentName</a><br>\n",
    "    Modul: Wahlpflichtmodul<br>\n",
    "    Zeitlicher Umfang: Y Stunden pro Woche<br>\n",
    "    Prüfungsleistung: Hausarbeit</p>\n",
    "  </article>\n",
    "  <!-- Weitere Kurse hier einfügen -->\n",
    "</section>\n",
    "\n",
    "</body>\n",
    "</html>"
   ]
  }
 ],
 "metadata": {
  "kernelspec": {
   "display_name": ".venv",
   "language": "python",
   "name": "python3"
  },
  "language_info": {
   "codemirror_mode": {
    "name": "ipython",
    "version": 3
   },
   "file_extension": ".py",
   "mimetype": "text/x-python",
   "name": "python",
   "nbconvert_exporter": "python",
   "pygments_lexer": "ipython3",
   "version": "3.12.3"
  }
 },
 "nbformat": 4,
 "nbformat_minor": 2
}
